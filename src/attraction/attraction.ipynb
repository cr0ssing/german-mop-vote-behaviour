{
 "cells": [
  {
   "cell_type": "markdown",
   "id": "73b5ae9a",
   "metadata": {},
   "source": [
    "Copyright (C) 2023 Robin Lamberti.\n",
    "\n",
    "This file is part of german-mop-vote-behaviour.\n",
    "\n",
    "german-mop-vote-behaviour is free software: you can redistribute it and/or modify\n",
    "it under the terms of the GNU General Public License as published by\n",
    "the Free Software Foundation, either version 3 of the License, or\n",
    "(at your option) any later version.\n",
    "\n",
    "german-mop-vote-behaviour is distributed in the hope that it will be useful,\n",
    "but WITHOUT ANY WARRANTY; without even the implied warranty of\n",
    "MERCHANTABILITY or FITNESS FOR A PARTICULAR PURPOSE. See the\n",
    "GNU General Public License for more details.\n",
    "\n",
    "You should have received a copy of the GNU General Public License\n",
    "along with german-mop-vote-behaviour. If not, see <http://www.gnu.org/licenses/>."
   ]
  },
  {
   "cell_type": "code",
   "execution_count": 1,
   "id": "399b0270-999b-4e2c-b54c-1ab946d1c580",
   "metadata": {},
   "outputs": [
    {
     "name": "stdout",
     "output_type": "stream",
     "text": [
      "Requirement already satisfied: scikit-network in c:\\users\\soowe\\appdata\\roaming\\python\\python39\\site-packages (0.31.0)Note: you may need to restart the kernel to use updated packages.\n",
      "\n",
      "Requirement already satisfied: numpy>=1.22.4 in c:\\python39\\lib\\site-packages (from scikit-network) (1.26.0)\n",
      "Requirement already satisfied: scipy>=1.7.3 in c:\\users\\soowe\\appdata\\roaming\\python\\python39\\site-packages (from scikit-network) (1.11.3)\n"
     ]
    },
    {
     "name": "stderr",
     "output_type": "stream",
     "text": [
      "WARNING: Ignoring invalid distribution -ip (c:\\python39\\lib\\site-packages)\n",
      "WARNING: Ignoring invalid distribution -ip (c:\\python39\\lib\\site-packages)\n"
     ]
    }
   ],
   "source": [
    "pip install scikit-network"
   ]
  },
  {
   "cell_type": "code",
   "execution_count": 2,
   "id": "48e8879a-c929-445f-9048-f1a24e27bea8",
   "metadata": {},
   "outputs": [],
   "source": [
    "import numpy as np\n",
    "import json"
   ]
  },
  {
   "cell_type": "code",
   "execution_count": 5,
   "id": "5ab99d21-d16b-40ba-88f2-71b18a0bd18a",
   "metadata": {},
   "outputs": [],
   "source": [
    "members = np.array(json.load(open('../../members.json')))"
   ]
  },
  {
   "cell_type": "code",
   "execution_count": 8,
   "id": "e4582fdc-cb0b-4027-83b0-35e210108112",
   "metadata": {},
   "outputs": [],
   "source": [
    "attraction = np.array(json.load(open('../../attraction.json')))"
   ]
  },
  {
   "cell_type": "code",
   "execution_count": 9,
   "id": "beb058ff-f214-4f66-a147-2ff9beca9a85",
   "metadata": {},
   "outputs": [],
   "source": [
    "from_nodes = [edge[\"a\"] for edge in attraction]"
   ]
  },
  {
   "cell_type": "code",
   "execution_count": 10,
   "id": "f539f722-7c10-4769-902e-0e5e32b9c949",
   "metadata": {},
   "outputs": [],
   "source": [
    "to_nodes = [edge[\"b\"] for edge in attraction]"
   ]
  },
  {
   "cell_type": "code",
   "execution_count": 11,
   "id": "1327eadd-13a6-4114-b352-fb58e0f62003",
   "metadata": {},
   "outputs": [],
   "source": [
    "weights = [edge[\"attraction\"] for edge in attraction]"
   ]
  },
  {
   "cell_type": "code",
   "execution_count": 12,
   "id": "ba1ff60e-070c-4eba-ab9e-04b63473cd34",
   "metadata": {},
   "outputs": [],
   "source": [
    "unique_nodes = np.unique(np.concatenate((from_nodes, to_nodes)))"
   ]
  },
  {
   "cell_type": "code",
   "execution_count": 13,
   "id": "257431be-32a3-45b7-9465-fdd7305b177d",
   "metadata": {},
   "outputs": [],
   "source": [
    "name_to_party = {member[\"name\"]: member[\"party\"] for member in members}\n",
    "parties = [name_to_party[node_name] for node_name in unique_nodes]"
   ]
  },
  {
   "cell_type": "code",
   "execution_count": 14,
   "id": "515e4ba7-7cd6-48db-8ac0-fc7350ef36cc",
   "metadata": {},
   "outputs": [],
   "source": [
    "num_nodes = len(unique_nodes)"
   ]
  },
  {
   "cell_type": "code",
   "execution_count": 15,
   "id": "018c1ec6-7817-4353-9e8c-582ed1b96281",
   "metadata": {},
   "outputs": [],
   "source": [
    "adjacency_matrix = np.zeros((num_nodes, num_nodes), dtype=int)"
   ]
  },
  {
   "cell_type": "code",
   "execution_count": 16,
   "id": "98666ce7-40dc-4f3d-b683-7029bc275721",
   "metadata": {},
   "outputs": [],
   "source": [
    "for i in range(len(attraction)):\n",
    "    from_index = np.where(unique_nodes == from_nodes[i])[0][0]\n",
    "    to_index = np.where(unique_nodes == to_nodes[i])[0][0]\n",
    "    adjacency_matrix[from_index, to_index] = weights[i]"
   ]
  },
  {
   "cell_type": "code",
   "execution_count": 17,
   "id": "6f462518-ba09-48f6-aee8-14ddd9f98388",
   "metadata": {},
   "outputs": [
    {
     "data": {
      "text/plain": [
       "array([[  0,   0,   0, ...,   0, 170, 158],\n",
       "       [166,   0, 104, ..., 170, 206, 194],\n",
       "       [ 78,   0,   0, ...,   0, 102, 100],\n",
       "       ...,\n",
       "       [142,   0,  82, ...,   0, 176, 162],\n",
       "       [  0,   0,   0, ...,   0,   0, 196],\n",
       "       [  0,   0,   0, ...,   0,   0,   0]])"
      ]
     },
     "execution_count": 17,
     "metadata": {},
     "output_type": "execute_result"
    }
   ],
   "source": [
    "adjacency_matrix"
   ]
  },
  {
   "cell_type": "code",
   "execution_count": 18,
   "id": "2490bf87-bfa3-4550-bb1d-fa80456603fc",
   "metadata": {},
   "outputs": [],
   "source": [
    "from scipy import sparse"
   ]
  },
  {
   "cell_type": "code",
   "execution_count": 19,
   "id": "b61094ed-079d-4725-a9c1-1b99671a0c71",
   "metadata": {},
   "outputs": [],
   "source": [
    "adjacency_matrix = sparse.csr_matrix(adjacency_matrix)"
   ]
  },
  {
   "cell_type": "code",
   "execution_count": 20,
   "id": "8fc44709-d22e-4e2f-9849-f0a9a1097d43",
   "metadata": {},
   "outputs": [
    {
     "data": {
      "text/plain": [
       "<752x752 sparse matrix of type '<class 'numpy.intc'>'\n",
       "\twith 281183 stored elements in Compressed Sparse Row format>"
      ]
     },
     "execution_count": 20,
     "metadata": {},
     "output_type": "execute_result"
    }
   ],
   "source": [
    "adjacency_matrix"
   ]
  },
  {
   "cell_type": "code",
   "execution_count": 21,
   "id": "ff410e39-e1e4-4b14-9ba9-6f4c7e9e28c6",
   "metadata": {},
   "outputs": [],
   "source": [
    "from IPython.display import SVG\n",
    "from sknetwork.visualization import svg_graph"
   ]
  },
  {
   "cell_type": "code",
   "execution_count": 22,
   "id": "4943e205-a69f-4b14-af5d-361d33341ca5",
   "metadata": {},
   "outputs": [],
   "source": [
    "from sknetwork.embedding import Spring"
   ]
  },
  {
   "cell_type": "code",
   "execution_count": 24,
   "id": "88667c97-8042-47cd-ac4f-100854f8ca63",
   "metadata": {},
   "outputs": [],
   "source": [
    "colors = ['Die Linke', 'B90/GrÃ¼ne', 'SPD', 'FDP', 'CDU/CSU', 'AfD', 'fraktionslos']\n",
    "labels = [colors.index(f) for f in parties]\n",
    "label_colors = ['pink', 'green', 'red', 'yellow', 'black', 'blue', 'white']"
   ]
  },
  {
   "cell_type": "code",
   "execution_count": 25,
   "id": "29eae64a",
   "metadata": {},
   "outputs": [],
   "source": [
    "init_pos = {(x, y): np.array([[e / x, np.random.randn() / y] for e in labels]) for y in [1.3] for x in [8]}"
   ]
  },
  {
   "cell_type": "code",
   "execution_count": 26,
   "id": "8d708f60-631f-4385-8028-b61a697fef95",
   "metadata": {},
   "outputs": [],
   "source": [
    "spring = Spring(2)\n",
    "embedding = {(x, y, i): spring.fit_transform(adjacency_matrix, n_iter = i, position_init = pos) for (x ,y), pos in init_pos.items() for i in [10]}"
   ]
  },
  {
   "cell_type": "code",
   "execution_count": 27,
   "id": "78e5c7c6",
   "metadata": {},
   "outputs": [],
   "source": [
    "embedding_freely = {n: spring.fit_transform(adjacency_matrix, n_iter = n) for n in [80, 100, 105, 120, 130, 140]}"
   ]
  },
  {
   "cell_type": "code",
   "execution_count": 28,
   "id": "2861a632-7c6d-4741-a85c-27e887436363",
   "metadata": {},
   "outputs": [],
   "source": [
    "image = [svg_graph(adjacency_matrix, position=e, display_edges=False, scale=10, name_position='below', names=unique_nodes, labels=labels, label_colors=label_colors, filename=f'out\\\\attraction_{x}_{y:.1f}_{i}') for (x, y, i), e in embedding.items()]\n",
    "image = [svg_graph(adjacency_matrix, position=e, display_edges=False, scale=10, name_position='below', names=unique_nodes, labels=labels, label_colors=label_colors, filename=f'out\\\\attraction_freely_{i}') for i, e in embedding_freely.items()]"
   ]
  }
 ],
 "metadata": {
  "kernelspec": {
   "display_name": "Python 3 (ipykernel)",
   "language": "python",
   "name": "python3"
  }
 },
 "nbformat": 4,
 "nbformat_minor": 5
}
